{
 "cells": [
  {
   "cell_type": "markdown",
   "metadata": {},
   "source": [
    "# Creating and importing arrays"
   ]
  },
  {
   "cell_type": "markdown",
   "metadata": {},
   "source": [
    "## Creating an Array"
   ]
  },
  {
   "cell_type": "code",
   "execution_count": null,
   "metadata": {},
   "outputs": [],
   "source": [
    "Arrays can hold only one type of data at a time.\n",
    "The type should be specified by using type code at the time of creating the array object as below:"
   ]
  },
  {
   "cell_type": "code",
   "execution_count": null,
   "metadata": {},
   "outputs": [],
   "source": [
    "arrayname = array(type code, [elements])"
   ]
  },
  {
   "cell_type": "code",
   "execution_count": null,
   "metadata": {},
   "outputs": [],
   "source": [
    "Type code             C Type                                           Minimum size in bytes"
   ]
  },
  {
   "cell_type": "code",
   "execution_count": null,
   "metadata": {},
   "outputs": [],
   "source": [
    "'b'                   signed integer                                             1\n",
    "\n",
    "'B'                   Unsigned integer                                           1\n",
    "\n",
    "'i'                   signed integer                                             2\n",
    "\n",
    "'I'                   Unsigned integer                                           2\n",
    "\n",
    "'l'                   signed integer                                             4\n",
    "\n",
    "'L'                   Unsigned integer                                           4\n",
    "\n",
    "'f'                   floating point                                             4\n",
    "\n",
    "'d'                   double precision floating point                            8\n",
    "\n",
    "'u'                   Unicode character                                          2"
   ]
  },
  {
   "cell_type": "code",
   "execution_count": null,
   "metadata": {},
   "outputs": [],
   "source": []
  },
  {
   "cell_type": "markdown",
   "metadata": {},
   "source": [
    "### How to create an integer type array ?"
   ]
  },
  {
   "cell_type": "code",
   "execution_count": null,
   "metadata": {},
   "outputs": [],
   "source": [
    "Step 1: Write the module name 'array' and then the type code to be use for e.g., i for integer type array\n",
    "    \n",
    "Step 2: Then elements should be written inside the square braces as []"
   ]
  },
  {
   "cell_type": "code",
   "execution_count": null,
   "metadata": {},
   "outputs": [],
   "source": [
    "e.g.,\n",
    "\n",
    "a = array('i', [4,6,2,9])  # 'i' is type code and [4,6,2,9] - elements in square brace\n",
    "\n",
    "This is creating an array whose name is 'a' with integer type and elements 4, 6, 2 and 9."
   ]
  },
  {
   "cell_type": "code",
   "execution_count": null,
   "metadata": {},
   "outputs": [],
   "source": []
  },
  {
   "cell_type": "markdown",
   "metadata": {},
   "source": [
    "### How to create a float type array ?"
   ]
  },
  {
   "cell_type": "code",
   "execution_count": null,
   "metadata": {},
   "outputs": [],
   "source": [
    "As above, use 'f' or 'd' for floating point array"
   ]
  },
  {
   "cell_type": "code",
   "execution_count": null,
   "metadata": {},
   "outputs": [],
   "source": [
    "arr = array('d', [1.5, -2.2, 3, 5.75])\n",
    "\n",
    "This will create an array by the name 'arr' with float type elements 1.5, -2.2, 3.0 and 5.75\n",
    "The type code is 'd' and this represent double precision floating point array each taking 8 bytes of memory"
   ]
  },
  {
   "cell_type": "code",
   "execution_count": null,
   "metadata": {},
   "outputs": [],
   "source": []
  },
  {
   "cell_type": "markdown",
   "metadata": {},
   "source": [
    "### Importing the Array Module"
   ]
  },
  {
   "cell_type": "code",
   "execution_count": null,
   "metadata": {},
   "outputs": [],
   "source": [
    "To create arrays we need to use 'array' module.\n",
    "To use this module, first we need to import 'array' module in to our program."
   ]
  },
  {
   "cell_type": "code",
   "execution_count": null,
   "metadata": {},
   "outputs": [],
   "source": []
  },
  {
   "cell_type": "code",
   "execution_count": null,
   "metadata": {},
   "outputs": [],
   "source": [
    "There are 3 ways to import an array module "
   ]
  },
  {
   "cell_type": "markdown",
   "metadata": {},
   "source": [
    "#### Method 1 : Import the entire array module using import statement"
   ]
  },
  {
   "cell_type": "code",
   "execution_count": 1,
   "metadata": {},
   "outputs": [],
   "source": [
    "import array"
   ]
  },
  {
   "cell_type": "code",
   "execution_count": 3,
   "metadata": {},
   "outputs": [],
   "source": [
    "a = array.array('i', [4,6,2,9])"
   ]
  },
  {
   "cell_type": "code",
   "execution_count": null,
   "metadata": {},
   "outputs": [],
   "source": [
    "the first 'array' represents the module name\n",
    " the next 'array' represents the class name for which the object is created.\n",
    "    \n",
    "That means we are creating our array as an object of array class."
   ]
  },
  {
   "cell_type": "code",
   "execution_count": 9,
   "metadata": {},
   "outputs": [
    {
     "name": "stdout",
     "output_type": "stream",
     "text": [
      "The array elements are:\n",
      "4\n",
      "6\n",
      "2\n",
      "9\n"
     ]
    }
   ],
   "source": [
    "print('The array elements are:')\n",
    "for element in a:\n",
    "    print(element)"
   ]
  },
  {
   "cell_type": "code",
   "execution_count": null,
   "metadata": {},
   "outputs": [],
   "source": []
  },
  {
   "cell_type": "code",
   "execution_count": null,
   "metadata": {},
   "outputs": [],
   "source": [
    "See 'for' loop in the above example.\n",
    "The variable 'element' assumes each element value from the array 'a' \n",
    "    and hence print(element) will display all the elments of the array."
   ]
  },
  {
   "cell_type": "markdown",
   "metadata": {},
   "source": [
    "####  Method 2: Give it an alias name"
   ]
  },
  {
   "cell_type": "code",
   "execution_count": 3,
   "metadata": {},
   "outputs": [],
   "source": [
    "import array as ar"
   ]
  },
  {
   "cell_type": "code",
   "execution_count": 4,
   "metadata": {},
   "outputs": [],
   "source": [
    "a = ar.array('i', [4,6,2,9]) # the array is imported with an alias name 'ar'"
   ]
  },
  {
   "cell_type": "code",
   "execution_count": 5,
   "metadata": {},
   "outputs": [
    {
     "name": "stdout",
     "output_type": "stream",
     "text": [
      "The array elements are:\n",
      "4\n",
      "6\n",
      "2\n",
      "9\n"
     ]
    }
   ],
   "source": [
    "print('The array elements are:')\n",
    "for element in a:\n",
    "    print(element)"
   ]
  },
  {
   "cell_type": "markdown",
   "metadata": {},
   "source": [
    "#### Method 3: Import all using *"
   ]
  },
  {
   "cell_type": "code",
   "execution_count": 6,
   "metadata": {},
   "outputs": [],
   "source": [
    "from array import * # the symbol '*' represents all i.e., classes, objects, variables etc"
   ]
  },
  {
   "cell_type": "code",
   "execution_count": null,
   "metadata": {},
   "outputs": [],
   "source": [
    "The above statement means import all classes, objects, variable etc from the array module into our program.\n",
    "This means we are specifically importing the 'array' class (because of * symbol) of 'array' module.\n",
    "No need to mention the module name before our array name while creating it."
   ]
  },
  {
   "cell_type": "code",
   "execution_count": 7,
   "metadata": {},
   "outputs": [],
   "source": [
    "a=array('i', [9,7,2,-2]) # module name is not mentioned because we have imported all already."
   ]
  },
  {
   "cell_type": "code",
   "execution_count": 8,
   "metadata": {},
   "outputs": [
    {
     "name": "stdout",
     "output_type": "stream",
     "text": [
      "The array elements are:\n",
      "9\n",
      "7\n",
      "2\n",
      "-2\n"
     ]
    }
   ],
   "source": [
    "print('The array elements are:')\n",
    "for element in a:\n",
    "    print(element)"
   ]
  },
  {
   "cell_type": "code",
   "execution_count": null,
   "metadata": {},
   "outputs": [],
   "source": []
  },
  {
   "cell_type": "markdown",
   "metadata": {},
   "source": [
    "####  How to create an array with a group of characters instead of simple elements"
   ]
  },
  {
   "cell_type": "code",
   "execution_count": 9,
   "metadata": {},
   "outputs": [
    {
     "ename": "TypeError",
     "evalue": "array item must be unicode character",
     "output_type": "error",
     "traceback": [
      "\u001b[0;31m---------------------------------------------------------------------------\u001b[0m",
      "\u001b[0;31mTypeError\u001b[0m                                 Traceback (most recent call last)",
      "\u001b[0;32m<ipython-input-9-620f7b3920d9>\u001b[0m in \u001b[0;36m<module>\u001b[0;34m\u001b[0m\n\u001b[1;32m      1\u001b[0m \u001b[0;32mfrom\u001b[0m \u001b[0marray\u001b[0m \u001b[0;32mimport\u001b[0m \u001b[0;34m*\u001b[0m\u001b[0;34m\u001b[0m\u001b[0;34m\u001b[0m\u001b[0m\n\u001b[0;32m----> 2\u001b[0;31m \u001b[0marr\u001b[0m \u001b[0;34m=\u001b[0m \u001b[0marray\u001b[0m \u001b[0;34m(\u001b[0m\u001b[0;34m'u'\u001b[0m\u001b[0;34m,\u001b[0m \u001b[0;34m[\u001b[0m\u001b[0;34m'amit'\u001b[0m\u001b[0;34m,\u001b[0m\u001b[0;34m'bristol'\u001b[0m\u001b[0;34m,\u001b[0m\u001b[0;34m'call'\u001b[0m\u001b[0;34m,\u001b[0m\u001b[0;34m'den'\u001b[0m\u001b[0;34m,\u001b[0m\u001b[0;34m'elephant'\u001b[0m\u001b[0;34m]\u001b[0m\u001b[0;34m)\u001b[0m\u001b[0;34m\u001b[0m\u001b[0;34m\u001b[0m\u001b[0m\n\u001b[0m\u001b[1;32m      3\u001b[0m \u001b[0;34m\u001b[0m\u001b[0m\n\u001b[1;32m      4\u001b[0m \u001b[0mprint\u001b[0m\u001b[0;34m(\u001b[0m\u001b[0;34m'The array elements are: '\u001b[0m\u001b[0;34m)\u001b[0m\u001b[0;34m\u001b[0m\u001b[0;34m\u001b[0m\u001b[0m\n\u001b[1;32m      5\u001b[0m \u001b[0;32mfor\u001b[0m \u001b[0mcharacters\u001b[0m \u001b[0;32min\u001b[0m \u001b[0marr\u001b[0m\u001b[0;34m:\u001b[0m\u001b[0;34m\u001b[0m\u001b[0;34m\u001b[0m\u001b[0m\n",
      "\u001b[0;31mTypeError\u001b[0m: array item must be unicode character"
     ]
    }
   ],
   "source": [
    "from array import *\n",
    "arr = array ('u', ['amit','bristol','call','den','elephant'])\n",
    "\n",
    "print('The array elements are: ')\n",
    "for characters in arr:\n",
    "    print(characters)"
   ]
  },
  {
   "cell_type": "code",
   "execution_count": 10,
   "metadata": {},
   "outputs": [
    {
     "name": "stdout",
     "output_type": "stream",
     "text": [
      "The array elements are: \n",
      "a\n",
      "b\n",
      "c\n",
      "d\n",
      "e\n"
     ]
    }
   ],
   "source": [
    "from array import *\n",
    "arr = array ('u', ['a','b','c','d','e'])\n",
    "\n",
    "print('The array elements are: ')\n",
    "for characters in arr:\n",
    "    print(characters)"
   ]
  },
  {
   "cell_type": "markdown",
   "metadata": {},
   "source": [
    "### Creatre an array from another array"
   ]
  },
  {
   "cell_type": "code",
   "execution_count": null,
   "metadata": {},
   "outputs": [],
   "source": [
    "Let's say there is an array 'arr1'\n",
    "\n",
    "arr1 = array('d', [1.5, 3.5, -5.6, -10.9])\n",
    "\n",
    "This is a float type array with four elements.\n",
    "\n",
    "We want to create another array from this arr1 and it should have \n",
    "    same type code and \n",
    "    same elements as that of 'arr1'\n",
    "\n",
    "arr2 = array(arr1.typecode, (a for a in arr1)) \n",
    "\n",
    "Explanation:\n",
    "    \n",
    "    arr1.typecode gives the type code character of the arrya 'arr1'.\n",
    "    This type code is used for 'arr2'\n",
    "    \n",
    "    a for a in arr1\n",
    "        \n",
    "        First a represents that its value is stored as elements in the array 'arr2'.\n",
    "        This 'a' value is from ‘a’ (each element) in arr1\n",
    "        \n",
    "arr2 = array(arr1.typecode, (a*3 for a in arr1))"
   ]
  },
  {
   "cell_type": "code",
   "execution_count": null,
   "metadata": {},
   "outputs": [],
   "source": []
  },
  {
   "cell_type": "code",
   "execution_count": null,
   "metadata": {},
   "outputs": [],
   "source": [
    "Example to create an array from another array."
   ]
  },
  {
   "cell_type": "code",
   "execution_count": 2,
   "metadata": {},
   "outputs": [
    {
     "name": "stdout",
     "output_type": "stream",
     "text": [
      "The elements in array are:\n",
      "4\n",
      "6\n",
      "8\n",
      "10\n",
      "12\n",
      "The elements in array are: \n",
      "64\n",
      "216\n",
      "512\n",
      "1000\n",
      "1728\n"
     ]
    }
   ],
   "source": [
    "from array import *\n",
    "\n",
    "arr1 = array('i', [2,3,4,5,6])\n",
    "\n",
    "arr2 = array(arr1.typecode, (a*2 for a in arr1))\n",
    "\n",
    "print('The elements in array are:')\n",
    "for elements in arr2:\n",
    "    print(elements)\n",
    "    \n",
    "arr3 = array(arr1.typecode, (a**3 for a in arr2))\n",
    "    \n",
    "print('The elements in array are: ')\n",
    "for elements in arr3:\n",
    "    print(elements)"
   ]
  },
  {
   "cell_type": "code",
   "execution_count": null,
   "metadata": {},
   "outputs": [],
   "source": []
  },
  {
   "cell_type": "code",
   "execution_count": null,
   "metadata": {},
   "outputs": [],
   "source": []
  },
  {
   "cell_type": "code",
   "execution_count": null,
   "metadata": {},
   "outputs": [],
   "source": []
  }
 ],
 "metadata": {
  "kernelspec": {
   "display_name": "Python 3",
   "language": "python",
   "name": "python3"
  },
  "language_info": {
   "codemirror_mode": {
    "name": "ipython",
    "version": 3
   },
   "file_extension": ".py",
   "mimetype": "text/x-python",
   "name": "python",
   "nbconvert_exporter": "python",
   "pygments_lexer": "ipython3",
   "version": "3.7.6"
  }
 },
 "nbformat": 4,
 "nbformat_minor": 4
}
